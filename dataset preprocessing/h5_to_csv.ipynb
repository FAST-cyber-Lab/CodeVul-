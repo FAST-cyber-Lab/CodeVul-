{
  "cells": [
    {
      "cell_type": "code",
      "execution_count": null,
      "metadata": {
        "id": "xALWyNVvMjt1",
        "outputId": "07527d24-db91-4fb2-b78e-603002129b17"
      },
      "outputs": [
        {
          "name": "stdout",
          "output_type": "stream",
          "text": [
            "Keys in the file:\n",
            "['CWE-119', 'CWE-120', 'CWE-469', 'CWE-476', 'CWE-other', 'functionSource']\n"
          ]
        }
      ],
      "source": [
        "import h5py\n",
        "import pandas as pd\n",
        "\n",
        "file_path = 'F:/CWE vulnerability/VDISC_train.hdf5'\n",
        "\n",
        "with h5py.File(file_path, 'r') as hdf:\n",
        "\n",
        "    print(\"Keys in the file:\")\n",
        "    print(list(hdf.keys()))\n",
        "\n",
        "    functionSource = hdf['functionSource'][:]\n",
        "    CWE_119 = hdf['CWE-119'][:]\n",
        "    CWE_120 = hdf['CWE-120'][:]\n",
        "    CWE_469 = hdf['CWE-469'][:]\n",
        "    CWE_476 = hdf['CWE-476'][:]\n",
        "    CWE_other = hdf['CWE-other'][:]\n",
        "\n",
        "data = pd.DataFrame({\n",
        "    'functionSource': [code.decode('utf-8') for code in functionSource],\n",
        "    'CWE-119': CWE_119,\n",
        "    'CWE-120': CWE_120,\n",
        "    'CWE-469': CWE_469,\n",
        "    'CWE-476': CWE_476,\n",
        "    'CWE-other': CWE_other\n",
        "})\n",
        "\n",
        "data['label'] = data[['CWE-119', 'CWE-120', 'CWE-469', 'CWE-476', 'CWE-other']].idxmax(axis=1)\n",
        "\n",
        "csvh = 'F:/CWE vulnerability/train.csv'\n",
        "\n",
        "data.to_csv(csvh, index=False)\n",
        "\n"
      ]
    }
  ],
  "metadata": {
    "colab": {
      "provenance": []
    },
    "kernelspec": {
      "display_name": "Python 3",
      "name": "python3"
    },
    "language_info": {
      "codemirror_mode": {
        "name": "ipython",
        "version": 3
      },
      "file_extension": ".py",
      "mimetype": "text/x-python",
      "name": "python",
      "nbconvert_exporter": "python",
      "pygments_lexer": "ipython3",
      "version": "3.9.7"
    }
  },
  "nbformat": 4,
  "nbformat_minor": 0
}